{
 "cells": [
  {
   "attachments": {},
   "cell_type": "markdown",
   "metadata": {},
   "source": [
    "# Equal-Weight S&P 500 Index Fund\n",
    "\n",
    "## Introduction & Library Imports\n",
    "\n",
    "The S&P 500 is the world's most popular stock market index. The largest fund that is benchmarked to this index is the SPDR® S&P 500® ETF Trust. It has more than US$250 billion of assets under management.\n",
    "\n",
    "The goal of this section of the course is to create a Python script that will accept the value of your portfolio and tell you how many shares of each S&P 500 constituent you should purchase to get an equal-weight version of the index fund.\n",
    "\n",
    "## Library Imports\n",
    "\n",
    "The first thing we need to do is import the open-source software libraries that we'll be using in this tutorial."
   ]
  },
  {
   "cell_type": "code",
   "execution_count": 5,
   "metadata": {},
   "outputs": [],
   "source": [
    "import numpy as np\n",
    "import pandas as pd\n",
    "import requests\n",
    "import xlsxwriter\n",
    "import math"
   ]
  },
  {
   "attachments": {},
   "cell_type": "markdown",
   "metadata": {},
   "source": [
    "## Importing Our List of Stocks\n",
    "\n",
    "The next thing we need to do is import the constituents of the S&P 500.\n",
    "\n",
    "These constituents change over time, so in an ideal world you would connect directly to the index provider (Standard & Poor's) and pull their real-time constituents on a regular basis.\n",
    "\n",
    "Paying for access to the index provider's API is outside of the scope of this course. \n",
    "\n",
    "There's a static version of the S&P 500 constituents available here. [Click this link to download them now](https://drive.google.com/file/d/1ZJSpbY69DVckVZlO9cC6KkgfSufybcHN/view?usp=sharing). Move this file into the `starter-files` folder so it can be accessed by other files in that directory.\n",
    "\n",
    "Now it's time to import these stocks to our Jupyter Notebook file."
   ]
  },
  {
   "cell_type": "code",
   "execution_count": 6,
   "metadata": {},
   "outputs": [],
   "source": [
    "stocks = pd.read_csv('sp_500_stocks.csv')"
   ]
  },
  {
   "attachments": {},
   "cell_type": "markdown",
   "metadata": {},
   "source": [
    "## Acquiring an API Token\n",
    "\n",
    "Now it's time to import our IEX Cloud API token. This is the data provider that we will be using throughout this course.\n",
    "\n",
    "API tokens (and other sensitive information) should be stored in a `secrets.py` file that doesn't get pushed to your local Git repository. We'll be using a sandbox API token in this course, which means that the data we'll use is randomly-generated and (more importantly) has no cost associated with it.\n",
    "\n",
    "[Click here](http://nickmccullum.com/algorithmic-trading-python/secrets.py) to download your `secrets.py` file. Move the file into the same directory as this Jupyter Notebook before proceeding."
   ]
  },
  {
   "cell_type": "code",
   "execution_count": 7,
   "metadata": {},
   "outputs": [
    {
     "name": "stdout",
     "output_type": "stream",
     "text": [
      "pk_679f66cec6ec4a47a25d4d9fae1d5045\n"
     ]
    }
   ],
   "source": [
    "from new_key import IEX_CLOUD_API_TOKEN\n",
    "print(IEX_CLOUD_API_TOKEN)"
   ]
  },
  {
   "attachments": {},
   "cell_type": "markdown",
   "metadata": {},
   "source": [
    "## Making Our First API Call\n",
    "\n",
    "Now it's time to structure our API calls to IEX cloud. \n",
    "\n",
    "We need the following information from the API:\n",
    "\n",
    "* Market capitalization for each stock\n",
    "* Price of each stock\n",
    "\n",
    "*We get the base url from the Testing Sandbox on the iexcloud.io/docs/api/ page, and from there we need to pick an endpoint that contains both the Market Cap and the Price of each stock. After a bit of searching, you realise that the Quote endpoint gives both the Market Cap and Price of the stock.*\n",
    "*Need to use an f string for the placement of the symbol in the api_url.*\n",
    "*We need to add our token to the end of the api_url to tell the api that we have permission to access the data it stores.*\n",
    "*The data variable is of type Response.*"
   ]
  },
  {
   "cell_type": "code",
   "execution_count": 8,
   "metadata": {},
   "outputs": [],
   "source": [
    "# Getting the symbol of the stock that we are intersting in, we are taking Apple as an example.\n",
    "symbol = \"aapl\"\n",
    "# Making the API URL including the name of the symbol and the IEX Token. \n",
    "api_url = f'https://api.iex.cloud/v1/data/core/quote/{symbol}?token={IEX_CLOUD_API_TOKEN}'\n",
    "# Getting the data from the database by making a http request. We turn the response object ot json object.\n",
    "jsonResponse = requests.get(api_url).json()\n",
    "# Since the responce is stored in a list, and we only want the dictionary\n",
    "data = jsonResponse[0]\n"
   ]
  },
  {
   "attachments": {},
   "cell_type": "markdown",
   "metadata": {},
   "source": [
    "## Parsing Our API Call\n",
    "\n",
    "The API call that we executed in the last code block contains all of the information required to build our equal-weight S&P 500 strategy. \n",
    "\n",
    "With that said, the data isn't in a proper format yet. We need to parse it first."
   ]
  },
  {
   "cell_type": "code",
   "execution_count": 9,
   "metadata": {},
   "outputs": [],
   "source": [
    "price = data['latestPrice']\n",
    "market_cap = data['marketCap']"
   ]
  },
  {
   "attachments": {},
   "cell_type": "markdown",
   "metadata": {},
   "source": [
    "## Adding Our Stocks Data to a Pandas DataFrame\n",
    "\n",
    "The next thing we need to do is add our stock's price and market capitalization to a pandas DataFrame. Think of a DataFrame like the Python version of a spreadsheet. It stores tabular data."
   ]
  },
  {
   "cell_type": "code",
   "execution_count": 10,
   "metadata": {},
   "outputs": [
    {
     "name": "stdout",
     "output_type": "stream",
     "text": [
      "Empty DataFrame\n",
      "Columns: [Ticker, Stock Price, Market Capitalization, Number of Shares to Buy]\n",
      "Index: []\n"
     ]
    }
   ],
   "source": [
    "my_columns = ['Ticker','Stock Price','Market Capitalization','Number of Shares to Buy']\n",
    "stock_dataframe = pd.DataFrame(columns=my_columns)\n",
    "print(stock_dataframe)"
   ]
  },
  {
   "attachments": {},
   "cell_type": "markdown",
   "metadata": {},
   "source": [
    "We are going to append to the dataframe using a pandas series, rather than a using a list. A pandas dataframe is a 2D structure with rows and columns, while a series in a 1D structure with just rows. \n",
    "Pandas series accept python lists and can be used to append to a dataframe. "
   ]
  },
  {
   "cell_type": "code",
   "execution_count": 11,
   "metadata": {},
   "outputs": [],
   "source": [
    "newRow = pd.Series([symbol,price,market_cap,'N/A'], index=my_columns)\n",
    "stock_dataframe = pd.concat([stock_dataframe, newRow], ignore_index=True)"
   ]
  },
  {
   "attachments": {},
   "cell_type": "markdown",
   "metadata": {},
   "source": [
    "## Looping Through The Tickers in Our List of Stocks\n",
    "\n",
    "Using the same logic that we outlined above, we can pull data for all S&P 500 stocks and store their data in the DataFrame using a `for` loop."
   ]
  },
  {
   "cell_type": "code",
   "execution_count": 12,
   "metadata": {},
   "outputs": [],
   "source": [
    "finalDataframe = pd.DataFrame(columns=my_columns)\n",
    "for i, stock in enumerate(stocks['Ticker']):\n",
    "    newAPIurl = f'https://api.iex.cloud/v1/data/core/quote/{stock}?token={IEX_CLOUD_API_TOKEN}'\n",
    "    try:\n",
    "        newJsonResponse = requests.get(newAPIurl).json()\n",
    "    except:\n",
    "        continue\n",
    "    data = newJsonResponse[0]\n",
    "    finalDataframe.loc[i,'Ticker'] = stock\n",
    "    finalDataframe.loc[i, 'Stock Price'] = data['latestPrice']\n",
    "    finalDataframe.loc[i,'Market Capitalization'] = data['marketCap']\n",
    "    finalDataframe.loc[i,'Number of Shares to Buy'] = 'N/A'\n",
    "    "
   ]
  },
  {
   "attachments": {},
   "cell_type": "markdown",
   "metadata": {},
   "source": [
    "## Using Batch API Calls to Improve Performance\n",
    "\n",
    "Batch API calls are one of the easiest ways to improve the performance of your code.\n",
    "\n",
    "This is because HTTP requests are typically one of the slowest components of a script.\n",
    "\n",
    "Also, API providers will often give you discounted rates for using batch API calls since they are easier for the API provider to respond to.\n",
    "\n",
    "IEX Cloud limits their batch API calls to 100 tickers per request. Still, this reduces the number of API calls we'll make in this section from 500 to 5 - huge improvement! In this section, we'll split our list of stocks into groups of 100 and then make a batch API call for each group."
   ]
  },
  {
   "attachments": {},
   "cell_type": "markdown",
   "metadata": {},
   "source": [
    "*In the video he nedds to split the list into lists of 100 stocks and then create a batch api call for each 100 stocks string. IEX has updated their batch api calls, and now allow upto 2000 calls to be called in a batch api call, so we can call for the entire list.*"
   ]
  },
  {
   "cell_type": "code",
   "execution_count": 13,
   "metadata": {},
   "outputs": [],
   "source": [
    "def chunks(list, n):\n",
    "    for i in range(0, len(list), n):\n",
    "        yield list[i:i+n]"
   ]
  },
  {
   "cell_type": "code",
   "execution_count": 14,
   "metadata": {},
   "outputs": [],
   "source": [
    "# Creating final dataframe to hold all ths stocks that are in the IEX database.\n",
    "stock_dataframe = pd.DataFrame(columns=my_columns)\n",
    "# Making a dataframe using the Ticker column that would hold all the stocks not in the database. \n",
    "dne_dataframe = pd.DataFrame(columns= [\"Ticker\"])\n",
    "ticker_list = stocks['Ticker']\n",
    "# Making the final_stock_list.\n",
    "symbol_groups = list(chunks(ticker_list, 100))\n",
    "symbol_strings = []\n",
    "for i in range(0, len(symbol_groups)):\n",
    "    symbol_strings.append(','.join(symbol_groups[i]))\n",
    "ticker_number = 0\n",
    "for symbol_string in symbol_strings:\n",
    "    # Making the batch api call url.\n",
    "    batch_api_url = f'https://cloud.iexapis.com/stable/stock/market/batch?symbols={symbol_string}&types=quote&range=1m&token={IEX_CLOUD_API_TOKEN}'\n",
    "    # Making the request using the batch api url above.\n",
    "    json_data = requests.get(batch_api_url).json()\n",
    "    for symbol in symbol_string.split(','):\n",
    "        try:\n",
    "            stock_dataframe.loc[ticker_number, 'Ticker'] = symbol\n",
    "            stock_dataframe.loc[ticker_number, 'Stock Price'] = json_data[symbol]['quote']['latestPrice']\n",
    "            stock_dataframe.loc[ticker_number, 'Market Capitalization'] = json_data[symbol]['quote']['marketCap']\n",
    "            stock_dataframe.loc[ticker_number, 'Number of Shares to Buy'] = 'NaN'\n",
    "            ticker_number += 1\n",
    "        except KeyError:\n",
    "            dne_dataframe.loc[ticker_number, 'Ticker'] = symbol\n",
    "            ticker_number += 1\n",
    "# Deleting the index that leads to NaN stock price and market cap from the dataframe.\n",
    "rows_to_remove = dne_dataframe.index\n",
    "stock_dataframe = stock_dataframe.drop(stock_dataframe.index[rows_to_remove])"
   ]
  },
  {
   "attachments": {},
   "cell_type": "markdown",
   "metadata": {},
   "source": [
    "## Calculating the Number of Shares to Buy\n",
    "\n",
    "As you can see in the DataFrame above, we stil haven't calculated the number of shares of each stock to buy.\n",
    "\n",
    "We'll do that next."
   ]
  },
  {
   "attachments": {},
   "cell_type": "markdown",
   "metadata": {},
   "source": [
    "*The way this is oging to work is the number of shares calculated would depend on the size of your portfolio.*"
   ]
  },
  {
   "cell_type": "code",
   "execution_count": 15,
   "metadata": {},
   "outputs": [
    {
     "name": "stdout",
     "output_type": "stream",
     "text": [
      "    Ticker Stock Price Market Capitalization Number of Shares to Buy\n",
      "0        A      119.42           35273780186                   33428\n",
      "1      AAL       16.26           10616154000                  245511\n",
      "2      AAP       65.67            3903677761                   60789\n",
      "3     AAPL      186.68         2936234089360                   21384\n",
      "4     ABBV      135.92          239802253306                   29370\n",
      "..     ...         ...                   ...                     ...\n",
      "500    YUM       135.6           37979794895                   29439\n",
      "501    ZBH      143.99           30031891347                   27724\n",
      "502   ZBRA      264.33           13594581244                   15102\n",
      "503   ZION        26.6            3939478647                  150075\n",
      "504    ZTS      168.37           77805821012                   23709\n",
      "\n",
      "[501 rows x 4 columns]\n"
     ]
    },
    {
     "data": {
      "text/plain": [
       "'LOGIC CHECK: The shares that have a lower price will have a higher number of shares to buy.\\nThis is because you need a larger volume of cheaper shares if you want to match your for your portfolio size.'"
      ]
     },
     "execution_count": 15,
     "metadata": {},
     "output_type": "execute_result"
    }
   ],
   "source": [
    "portfolio_value = input(\"Enter the size of your portfolio: \")\n",
    "try:\n",
    "    value = float(portfolio_value)\n",
    "except ValueError:\n",
    "    print(\"Please enter a valid number for your portfolio value.\")\n",
    "    portfolio_value = input(\"Enter the size of your portfolio: \")\n",
    "    value = float(portfolio_value)\n",
    "# We calculate the position_size by dividing the value of the portfolio by the number of stocks in the index.\n",
    "position_size = value / len(stock_dataframe)\n",
    "# We can then calculate the number of shares to buy per stock by dividing the position_size we want to take by the price of the stock.\n",
    "for a in range(0, len(stock_dataframe)):\n",
    "    current_stock = stock_dataframe.iloc[a]\n",
    "    current_stock[\"Number of Shares to Buy\"] = math.floor(position_size / current_stock['Stock Price'])\n",
    "print(stock_dataframe)\n",
    "\n",
    "'''LOGIC CHECK: The shares that have a lower price will have a higher number of shares to buy.\n",
    "This is because you need a larger volume of cheaper shares if you want to match your for your portfolio size.'''"
   ]
  },
  {
   "attachments": {},
   "cell_type": "markdown",
   "metadata": {},
   "source": [
    "\n",
    "## Formatting Our Excel Output\n",
    "\n",
    "We will be using the XlsxWriter library for Python to create nicely-formatted Excel files.\n",
    "\n",
    "XlsxWriter is an excellent package and offers tons of customization. However, the tradeoff for this is that the library can seem very complicated to new users. Accordingly, this section will be fairly long because I want to do a good job of explaining how XlsxWriter works.\n",
    "\n",
    "### Initializing our XlsxWriter Object"
   ]
  },
  {
   "cell_type": "code",
   "execution_count": 50,
   "metadata": {},
   "outputs": [],
   "source": [
    "writer = pd.ExcelWriter('Recommended_Trades.xlsx', engine='xlsxwriter')\n",
    "stock_dataframe.to_excel(writer, 'Recommended Trades', index = False)"
   ]
  },
  {
   "attachments": {},
   "cell_type": "markdown",
   "metadata": {},
   "source": [
    "### Creating the Formats We'll Need For Our `.xlsx` File\n",
    "\n",
    "Formats include colors, fonts, and also symbols like `%` and `$`. We'll need four main formats for our Excel document:\n",
    "* String format for tickers\n",
    "* \\\\$XX.XX format for stock prices\n",
    "* \\\\$XX,XXX format for market capitalization\n",
    "* Integer format for the number of shares to purchase"
   ]
  },
  {
   "cell_type": "code",
   "execution_count": 51,
   "metadata": {},
   "outputs": [],
   "source": [
    "# Variables used for color scheme of a our excel sheet. Stores HTML HexCode for colors\n",
    "background_color = '#0a0a23'\n",
    "font_color = '#ffffff'\n",
    "string_format = writer.book.add_format({'font_color':font_color, 'bg_color':background_color, 'border':1})\n",
    "dollar_format = writer.book.add_format({'num_format': '$0.00', 'font_color':font_color, 'bg_color':background_color, 'border':1}) \n",
    "integer_format = writer.book.add_format({'num_format': '0', 'font_color':font_color, 'bg_color':background_color, 'border':1})"
   ]
  },
  {
   "attachments": {},
   "cell_type": "markdown",
   "metadata": {},
   "source": [
    "### Applying the Formats to the Columns of Our `.xlsx` File\n",
    "\n",
    "We can use the `set_column` method applied to the `writer.sheets['Recommended Trades']` object to apply formats to specific columns of our spreadsheets.\n",
    "\n",
    "Here's an example:\n",
    "\n",
    "```python\n",
    "writer.sheets['Recommended Trades'].set_column('B:B', #This tells the method to apply the format to column B\n",
    "                     18, #This tells the method to apply a column width of 18 pixels\n",
    "                     string_template #This applies the format 'string_template' to the column\n",
    "                    )\n",
    "```"
   ]
  },
  {
   "cell_type": "code",
   "execution_count": 48,
   "metadata": {},
   "outputs": [
    {
     "data": {
      "text/plain": [
       "0"
      ]
     },
     "execution_count": 48,
     "metadata": {},
     "output_type": "execute_result"
    }
   ],
   "source": [
    "# writer.sheets['Recommended Trades'].set_column('A:A', 18, string_format)\n",
    "# writer.sheets['Recommended Trades'].set_column('B:B', 18, string_format)\n",
    "# writer.sheets['Recommended Trades'].set_column('C:C', 18, string_format)\n",
    "# writer.sheets['Recommended Trades'].set_column('D:D', 18, string_format)\n",
    "\n",
    "# Making the formats for the cells in the header row.\n",
    "writer.sheets['Recommended Trades'].write('A1', 'Stocks', string_format)\n",
    "writer.sheets['Recommended Trades'].write('B1', 'Stock Price', dollar_format)\n",
    "writer.sheets['Recommended Trades'].write('C1', 'Market Capitalization', dollar_format)\n",
    "writer.sheets['Recommended Trades'].write('D1', 'Number of Shares to Buy', integer_format)"
   ]
  },
  {
   "attachments": {},
   "cell_type": "markdown",
   "metadata": {},
   "source": [
    "This code works, but it violates the software principle of \"Don't Repeat Yourself\". \n",
    "\n",
    "Let's simplify this by putting it in 2 loops:"
   ]
  },
  {
   "cell_type": "code",
   "execution_count": 52,
   "metadata": {},
   "outputs": [],
   "source": [
    "column_formats = {\n",
    "    'A': ['Ticker', string_format],\n",
    "    'B': ['Stock Price', dollar_format],\n",
    "    'C': ['Market Capitalization', dollar_format],\n",
    "    'D': ['Number of Shares to Buy', integer_format]\n",
    "}\n",
    "for column in column_formats.keys():\n",
    "    writer.sheets['Recommended Trades'].set_column(f'{column}:{column}', 18, column_formats[column][1])\n",
    "    writer.sheets['Recommended Trades'].write(f'{column}1', column_formats[column][0], column_formats[column][1])"
   ]
  },
  {
   "attachments": {},
   "cell_type": "markdown",
   "metadata": {},
   "source": [
    "## Saving Our Excel Output\n",
    "\n",
    "Saving our Excel file is very easy:"
   ]
  },
  {
   "cell_type": "code",
   "execution_count": null,
   "metadata": {},
   "outputs": [],
   "source": [
    "writer.close()"
   ]
  }
 ],
 "metadata": {
  "kernelspec": {
   "display_name": "Python 3 (ipykernel)",
   "language": "python",
   "name": "python3"
  },
  "language_info": {
   "codemirror_mode": {
    "name": "ipython",
    "version": 3
   },
   "file_extension": ".py",
   "mimetype": "text/x-python",
   "name": "python",
   "nbconvert_exporter": "python",
   "pygments_lexer": "ipython3",
   "version": "3.10.10"
  }
 },
 "nbformat": 4,
 "nbformat_minor": 4
}
